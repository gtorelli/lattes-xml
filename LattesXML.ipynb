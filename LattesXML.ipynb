{
 "cells": [
  {
   "cell_type": "markdown",
   "metadata": {},
   "source": [
    "# LattesXML ⛏  🧐\n",
    "## Notebook para extração de dados de arquivos XML do currículo Lattes/CNPq\n",
    "#### Autor: Gabriel Torell | torelli@yahoo.com\n",
    "#### Ajude a desenvolver essa ferramenta: http://github.com/gtorelli\n",
    "\n",
    "Este programa é um software livre; você pode redistribuí-lo e/ou\n",
    "modificá-lo sob os termos da Licença Pública Geral GNU como publicada\n",
    "pela Free Software Foundation; na versão 3 da Licença, ou\n",
    "(a seu critério) qualquer versão posterior.\n",
    "\n",
    "Este programa é distribuído na esperança de que possa ser útil,\n",
    "mas SEM NENHUMA GARANTIA; sem uma garantia implícita de ADEQUAÇÃO\n",
    "a qualquer MERCADO ou APLICAÇÃO EM PARTICULAR. Veja a\n",
    "Licença Pública Geral GNU para mais detalhes.\n",
    "\n",
    "Você deve ter recebido uma cópia da Licença Pública Geral GNU junto\n",
    "com este programa. Se não, veja <http://www.gnu.org/licenses/>.\n",
    "\n",
    "### Como utilizar?\n",
    "1. Faça o download dos arquivos XML utilizando a plataforma Lattes;\n",
    "2. Coloque os arquivos dentro de um diretório chamado \"XML\";\n",
    "3. Crie um diretório chamado \"relatorios\";\n",
    "3. Execute o script.\n",
    "\n",
    "Os resultados são gerados em formato html e colocados no diretório \"relatorios\".\n"
   ]
  },
  {
   "cell_type": "code",
   "execution_count": 1,
   "metadata": {
    "ExecuteTime": {
     "end_time": "2019-12-11T15:42:42.743257Z",
     "start_time": "2019-12-11T15:42:41.537282Z"
    }
   },
   "outputs": [],
   "source": [
    "# Importa Bibliotecas\n",
    "import pandas as pd\n",
    "import numpy as np\n",
    "import requests\n",
    "from bs4 import BeautifulSoup as bs\n",
    "from IPython.core.display import display, HTML\n",
    "import glob\n",
    "import os\n",
    "import re"
   ]
  },
  {
   "cell_type": "code",
   "execution_count": 2,
   "metadata": {},
   "outputs": [],
   "source": [
    "# Configura colunas para tamanho máximo\n",
    "pd.set_option('display.max_colwidth', None)\n",
    "# Exibe Todas as Linhas do DataFrame\n",
    "pd.set_option('display.max_rows', None)"
   ]
  },
  {
   "cell_type": "code",
   "execution_count": 3,
   "metadata": {
    "ExecuteTime": {
     "end_time": "2019-12-11T15:42:43.874730Z",
     "start_time": "2019-12-11T15:42:42.785528Z"
    }
   },
   "outputs": [],
   "source": [
    "def ler_lattes(arquivo):\n",
    "    content = []\n",
    "    with open(\"XML/\"+arquivo, \"r\", encoding=\"ISO-8859-1\") as file:\n",
    "        content = file.readlines()\n",
    "        content = \"\".join(content)\n",
    "        return bs(content, \"lxml\")"
   ]
  },
  {
   "cell_type": "code",
   "execution_count": 4,
   "metadata": {},
   "outputs": [],
   "source": [
    "#luciano = ler_lattes('luciano_curriculo.xml')\n",
    "#paulo = ler_lattes('paulo_curriculo.xml')\n",
    "marco = ler_lattes('marco_curriculo.xml')\n",
    "#moises = ler_lattes('moises_curriculo.xml')\n",
    "#rigoberto = ler_lattes('rigoberto_curriculo.xml')"
   ]
  },
  {
   "cell_type": "markdown",
   "metadata": {},
   "source": [
    "## ARTIGOS EM CONGRESSOS"
   ]
  },
  {
   "cell_type": "code",
   "execution_count": 5,
   "metadata": {},
   "outputs": [],
   "source": [
    "def limpeza(n):\n",
    "    return re.findall('nome-completo-do-autor\\s*=\\s*\\\"(.+?)\\\"', str(n))"
   ]
  },
  {
   "cell_type": "code",
   "execution_count": 6,
   "metadata": {},
   "outputs": [],
   "source": [
    "def autores_artigos(membro):\n",
    "    lista = []\n",
    "    df_tmp = pd.DataFrame()\n",
    "    \n",
    "    for link in membro.find_all(\"artigo-publicado\"):\n",
    "        lista.append(link.find_all(\"autores\"))\n",
    "    autores = list(map(limpeza, lista))\n",
    "    df_tmp['AUTORES'] = pd.Series(autores)\n",
    "    df_tmp['AUTORES'] = df_tmp['AUTORES']\n",
    "    df_tmp['AUTORES'] = [', '.join(map(str,l)) for l in df_tmp['AUTORES']]\n",
    "    df_tmp['AUTORES'] = df_tmp['AUTORES'].str.title()\n",
    "    return df_tmp"
   ]
  },
  {
   "cell_type": "code",
   "execution_count": 7,
   "metadata": {},
   "outputs": [],
   "source": [
    "def titulo_artigos(membro):\n",
    "    lista = []\n",
    "    df_tmp = pd.DataFrame()\n",
    "\n",
    "    for titulo in membro.find_all(\"dados-basicos-do-artigo\"):\n",
    "        lista.append(titulo.get(\"titulo-do-artigo\"))\n",
    "    df_tmp['TITULO'] = pd.Series(lista).str.upper() \n",
    "    return df_tmp"
   ]
  },
  {
   "cell_type": "code",
   "execution_count": 8,
   "metadata": {},
   "outputs": [],
   "source": [
    "def nome_journal(membro):\n",
    "    lista = []\n",
    "    df_tmp = pd.DataFrame()\n",
    "    \n",
    "    for titulo in membro.find_all(\"detalhamento-do-artigo\"):\n",
    "        lista.append(titulo.get(\"titulo-do-periodico-ou-revista\"))\n",
    "    df_tmp['PERIODICO'] = pd.Series(lista).str.title()\n",
    "    return df_tmp"
   ]
  },
  {
   "cell_type": "code",
   "execution_count": 9,
   "metadata": {},
   "outputs": [],
   "source": [
    "def doi_artigos(membro):\n",
    "    lista = []\n",
    "    df_tmp = pd.DataFrame()\n",
    "    \n",
    "    for link in membro.find_all(\"dados-basicos-do-artigo\"):\n",
    "        lista.append(\"<a href=http://dx.doi.org/{}\".format(link.get(\"doi\")+\">\"+link.get(\"doi\")+\"</a>\"))\n",
    "    df_tmp['DOI'] = pd.Series(lista)\n",
    "    return df_tmp"
   ]
  },
  {
   "cell_type": "code",
   "execution_count": 10,
   "metadata": {},
   "outputs": [],
   "source": [
    "def ano_artigos(membro):\n",
    "    lista = []\n",
    "    df_tmp = pd.DataFrame()\n",
    "    for link in membro.find_all(\"dados-basicos-do-artigo\"):\n",
    "        lista.append(link.get(\"ano-do-artigo\"))\n",
    "    df_tmp['ANO'] = pd.Series(lista)\n",
    "    return df_tmp"
   ]
  },
  {
   "cell_type": "code",
   "execution_count": 11,
   "metadata": {},
   "outputs": [],
   "source": [
    "def processar_dataframe(df):\n",
    "    df_tmp = pd.DataFrame()\n",
    "    df_tmp = df[df['DOI'] != '<a href=http://dx.doi.org/></a>']\n",
    "    df_tmp = df_tmp[df_tmp['ANO'] >= '2010']\n",
    "    df_tmp = df_tmp.drop_duplicates(subset=['DOI'])\n",
    "    df_tmp = df_tmp.sort_values(by=['ANO']).reset_index(drop=True)\n",
    "    return df_tmp"
   ]
  },
  {
   "cell_type": "code",
   "execution_count": 15,
   "metadata": {},
   "outputs": [],
   "source": [
    "# RELATORIO ARTIGOS PROFESSOR MARCO\n",
    "marco_df = pd.concat([autores_artigos(marco), titulo_artigos(marco), nome_journal(marco), doi_artigos(marco), ano_artigos(marco)], axis=1, join=\"inner\")\n",
    "processar_dataframe(marco_df).to_html('relatorios/marco.html', escape=False)\n",
    "processar_dataframe(marco_df).to_excel('relatorios/marco.xlsx', sheet_name='ARTIGOS')"
   ]
  },
  {
   "cell_type": "code",
   "execution_count": 14,
   "metadata": {},
   "outputs": [],
   "source": [
    "# RELATORIO ARTIGOS PROFESSOR RIGOBERTO\n",
    "rigoberto_df = pd.concat([autores_artigos(rigoberto), titulo_artigos(rigoberto), nome_journal(rigoberto), doi_artigos(rigoberto), ano_artigos(rigoberto)], axis=1)\n",
    "processar_dataframe(rigoberto_df).to_html('relatorios/rigoberto.docx', escape=False)"
   ]
  },
  {
   "cell_type": "code",
   "execution_count": null,
   "metadata": {},
   "outputs": [],
   "source": [
    "# RELATORIO ARTIGOS PROFESSOR LUCIANO\n",
    "luciano_df = pd.concat([autores_artigos(luciano), titulo_artigos(luciano), nome_journal(luciano), doi_artigos(luciano), ano_artigos(luciano)], axis=1)\n",
    "processar_dataframe(luciano_df).to_html('relatorios/luciano.html', escape=False)"
   ]
  },
  {
   "cell_type": "code",
   "execution_count": null,
   "metadata": {},
   "outputs": [],
   "source": [
    "# RELATORIO ARTIGOS PROFESSOR MOISES\n",
    "moises_df = pd.concat([autores_artigos(moises), titulo_artigos(moises), nome_journal(moises), doi_artigos(moises), ano_artigos(moises)], axis=1)\n",
    "processar_dataframe(moises_df).to_html('relatorios/moises.html', escape=False)"
   ]
  },
  {
   "cell_type": "code",
   "execution_count": null,
   "metadata": {},
   "outputs": [],
   "source": [
    "# RELATORIO ARTIGOS PROFESSOR PAULO\n",
    "paulo_df = pd.concat([autores_artigos(paulo), titulo_artigos(paulo), nome_journal(paulo), doi_artigos(paulo), ano_artigos(paulo)], axis=1)\n",
    "processar_dataframe(paulo_df).to_html('relatorios/paulo.html', escape=False)"
   ]
  },
  {
   "cell_type": "code",
   "execution_count": null,
   "metadata": {},
   "outputs": [],
   "source": [
    "# DATAFRAME COM TODAS AS PUBLICAÇÕES\n",
    "final_df = pd.concat([marco_df, rigoberto_df, luciano_df, moises_df, paulo_df])\n",
    "final_df = processar_dataframe(final_df)\n",
    "final_df.to_html('relatorios/artigos_final.html', escape=False)\n",
    "final_df"
   ]
  },
  {
   "cell_type": "code",
   "execution_count": null,
   "metadata": {},
   "outputs": [],
   "source": []
  }
 ],
 "metadata": {
  "kernelspec": {
   "display_name": "Python 3 (ipykernel)",
   "language": "python",
   "name": "python3"
  },
  "language_info": {
   "codemirror_mode": {
    "name": "ipython",
    "version": 3
   },
   "file_extension": ".py",
   "mimetype": "text/x-python",
   "name": "python",
   "nbconvert_exporter": "python",
   "pygments_lexer": "ipython3",
   "version": "3.8.10"
  },
  "varInspector": {
   "cols": {
    "lenName": 16,
    "lenType": 16,
    "lenVar": 40
   },
   "kernels_config": {
    "python": {
     "delete_cmd_postfix": "",
     "delete_cmd_prefix": "del ",
     "library": "var_list.py",
     "varRefreshCmd": "print(var_dic_list())"
    },
    "r": {
     "delete_cmd_postfix": ") ",
     "delete_cmd_prefix": "rm(",
     "library": "var_list.r",
     "varRefreshCmd": "cat(var_dic_list()) "
    }
   },
   "types_to_exclude": [
    "module",
    "function",
    "builtin_function_or_method",
    "instance",
    "_Feature"
   ],
   "window_display": false
  }
 },
 "nbformat": 4,
 "nbformat_minor": 2
}
